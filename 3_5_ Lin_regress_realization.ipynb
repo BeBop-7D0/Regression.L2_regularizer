{
 "cells": [
  {
   "cell_type": "code",
   "id": "initial_id",
   "metadata": {
    "collapsed": true,
    "ExecuteTime": {
     "end_time": "2024-10-14T12:59:33.244374Z",
     "start_time": "2024-10-14T12:59:28.906092Z"
    }
   },
   "source": [
    "import math\n",
    "import time\n",
    "import matplotlib.pyplot as plt\n",
    "import numpy as np\n",
    "import torch\n",
    "from d2l import torch as d2l\n",
    "import random"
   ],
   "outputs": [],
   "execution_count": 1
  },
  {
   "metadata": {
    "ExecuteTime": {
     "end_time": "2024-10-14T13:08:32.390375Z",
     "start_time": "2024-10-14T13:08:32.374369Z"
    }
   },
   "cell_type": "code",
   "source": [
    "class LinearRegression(d2l.Module): #@save\n",
    "    def __init__(self, lr):\n",
    "        super().__init__()\n",
    "        self.save_hyperparameters()\n",
    "        self.net = torch.nn.LazyLinear(out_features=1)\n",
    "        self.net.weight.data.normal_(mean=0, std=0.01)\n",
    "        self.net.bias.data.fill_(0)\n",
    "        "
   ],
   "id": "d316b25da844ba3b",
   "outputs": [],
   "execution_count": 7
  },
  {
   "metadata": {
    "ExecuteTime": {
     "end_time": "2024-10-14T13:08:32.932367Z",
     "start_time": "2024-10-14T13:08:32.914372Z"
    }
   },
   "cell_type": "code",
   "source": [
    "@d2l.add_to_class(LinearRegression) #@save\n",
    "def forward(self, X):\n",
    "    return self.net(X)"
   ],
   "id": "7095aeeeb084dd73",
   "outputs": [],
   "execution_count": 8
  },
  {
   "metadata": {
    "ExecuteTime": {
     "end_time": "2024-10-14T13:08:33.073366Z",
     "start_time": "2024-10-14T13:08:33.052374Z"
    }
   },
   "cell_type": "code",
   "source": [
    "@d2l.add_to_class(LinearRegression) #@save\n",
    "def loss(self, y_hat, y):\n",
    "    fn = torch.nn.MSELoss()\n",
    "    return fn(y_hat, y)"
   ],
   "id": "7494e046f2bd44c3",
   "outputs": [],
   "execution_count": 9
  },
  {
   "metadata": {
    "ExecuteTime": {
     "end_time": "2024-10-14T13:08:34.219089Z",
     "start_time": "2024-10-14T13:08:34.205059Z"
    }
   },
   "cell_type": "code",
   "source": [
    "@d2l.add_to_class(LinearRegression) #@save\n",
    "def configure_optimizers(self):\n",
    "    return torch.optim.SGD(self.parameters(), self.lr)"
   ],
   "id": "3d9ac4d8991877f6",
   "outputs": [],
   "execution_count": 10
  },
  {
   "metadata": {},
   "cell_type": "code",
   "source": [
    "model = LinearRegression(lr=0.03)\n",
    "data = d2l.SyntheticRegressionData(w=torch.tensor([2, -3.4]), b=4.2)\n",
    "trainer = d2l.Trainer(max_epochs=5)\n",
    "trainer.fit(model, data)"
   ],
   "id": "2cb3f8ed74c6232e",
   "execution_count": 12,
   "outputs": []
  },
  {
   "metadata": {
    "ExecuteTime": {
     "end_time": "2024-10-14T13:11:35.305276Z",
     "start_time": "2024-10-14T13:11:35.294277Z"
    }
   },
   "cell_type": "code",
   "source": [
    "@d2l.add_to_class(LinearRegression) #@save\n",
    "def get_w_b(self):\n",
    "    return (self.net.weight.data, self.net.bias)\n"
   ],
   "id": "34b217fc2f48678f",
   "outputs": [],
   "execution_count": 15
  },
  {
   "metadata": {
    "ExecuteTime": {
     "end_time": "2024-10-14T13:12:50.133274Z",
     "start_time": "2024-10-14T13:12:50.115280Z"
    }
   },
   "cell_type": "code",
   "source": [
    "w, b = model.get_w_b()\n",
    "print(f\"Error on w: {w - data.w.reshape(1, -1)}\")\n",
    "print(f\"Error on bias: {b - data.b}\")"
   ],
   "id": "b11c737bac8e82da",
   "outputs": [
    {
     "name": "stdout",
     "output_type": "stream",
     "text": [
      "Error on w: tensor([[ 0.0005, -0.0007]])\n",
      "Error on bias: tensor([-0.0007], grad_fn=<SubBackward0>)\n"
     ]
    }
   ],
   "execution_count": 18
  },
  {
   "metadata": {},
   "cell_type": "code",
   "outputs": [],
   "execution_count": null,
   "source": "",
   "id": "de732657a571c2ef"
  }
 ],
 "metadata": {
  "kernelspec": {
   "display_name": "Python 3",
   "language": "python",
   "name": "python3"
  },
  "language_info": {
   "codemirror_mode": {
    "name": "ipython",
    "version": 2
   },
   "file_extension": ".py",
   "mimetype": "text/x-python",
   "name": "python",
   "nbconvert_exporter": "python",
   "pygments_lexer": "ipython2",
   "version": "2.7.6"
  }
 },
 "nbformat": 4,
 "nbformat_minor": 5
}
